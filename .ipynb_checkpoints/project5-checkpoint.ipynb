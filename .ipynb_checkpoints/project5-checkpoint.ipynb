{
 "cells": [
  {
   "cell_type": "code",
   "execution_count": 44,
   "id": "11c500ae",
   "metadata": {},
   "outputs": [],
   "source": [
    "import pandas as pd\n",
    "from google.cloud import firestore\n",
    "db = firestore.Client()"
   ]
  },
  {
   "cell_type": "code",
   "execution_count": null,
   "id": "4581d0de",
   "metadata": {},
   "outputs": [],
   "source": [
    "batch = db.batch()\n",
    "\n",
    "df = pd.read_csv('shopify/categories.csv', sep=',', header=0, lineterminator='\\n')\n",
    "category_rows = df.values.tolist()\n",
    "\n",
    "df = pd.read_csv('shopify/apps.csv', sep=',', header=0, lineterminator='\\n')\n",
    "apps_rows = df.values.tolist()\n",
    "\n",
    "df = pd.read_csv('shopify/apps_categories.csv', sep=',', header=0, lineterminator='\\n')\n",
    "apps_categories_rows = df.values.tolist()\n",
    "\n",
    "\n",
    "counter = 0\n",
    "for category_row in category_rows:\n",
    "    \n",
    "    category_record = {}\n",
    "    category_record['category_id'] = category_row[0]\n",
    "    category_record['title'] = category_row[1]\n",
    "    \n",
    "    category_ref = db.collection('category').document(category_row[0])\n",
    "    \n",
    "    batch.set(category_ref, category_record)\n",
    "    \n",
    "    for apps_categories_row in apps_categories_rows:\n",
    "        if apps_categories_row[1] == category_row[0]:\n",
    "            for apps_row in apps_rows:\n",
    "                if apps_categories_row[0] == apps_row[0]:\n",
    "                    \n",
    "                    app_record = {}\n",
    "                    app_record['app_id'] = apps_row[0]\n",
    "                    app_record['url'] = apps_row[1]\n",
    "                    app_record['title'] = apps_row[2]\n",
    "                    app_record['developer'] = apps_row[3]\n",
    "                    app_record['developer_link'] = apps_row[4]\n",
    "                    app_record['icon'] = apps_row[5]\n",
    "                    app_record['rating'] = apps_row[6]\n",
    "                    app_record['reviews_count'] = apps_row[7]\n",
    "                    \n",
    "                    apps_ref = category_ref.collection('apps').document(apps_row[0])\n",
    "                    \n",
    "                    batch.set(apps_ref, app_record)\n",
    "                    counter += 1\n",
    "                    if counter == 400:\n",
    "                        batch.commit()\n",
    "                        counter = 0\n",
    "    \n",
    "\n",
    "batch.commit()"
   ]
  },
  {
   "cell_type": "code",
   "execution_count": null,
   "id": "bc617ce8",
   "metadata": {},
   "outputs": [],
   "source": [
    "batch = db.batch()\n",
    "\n",
    "df = pd.read_csv('shopify/apps.csv', sep=',', header=0, lineterminator='\\n')\n",
    "apps_rows = df.values.tolist()\n",
    "\n",
    "df = pd.read_csv('shopify/key_benefits.csv', sep=',', header=0, lineterminator='\\n')\n",
    "key_benefits_rows = df.values.tolist()\n",
    "\n",
    "df = pd.read_csv('shopify/pricing_plans.csv', sep=',', header=0, lineterminator='\\n')\n",
    "pricing_plans_rows = df.values.tolist()\n",
    "\n",
    "df = pd.read_csv('shopify/pricing_plan_features.csv', sep=',', header=0, lineterminator='\\n')\n",
    "pricing_plan_features_rows = df.values.tolist()\n",
    "\n",
    "\n",
    "counter = 0\n",
    "for apps_row in apps_rows:\n",
    "    \n",
    "    app_record = {}\n",
    "    app_record['app_id'] = apps_row[0]\n",
    "    app_record['url'] = apps_row[1]\n",
    "    app_record['title'] = apps_row[2]\n",
    "    app_record['developer'] = apps_row[3]\n",
    "    app_record['developer_link'] = apps_row[4]\n",
    "    app_record['icon'] = apps_row[5]\n",
    "    app_record['rating'] = apps_row[6]\n",
    "    app_record['reviews_count'] = apps_row[7]\n",
    "    \n",
    "    apps_ref = db.collection('apps').document(apps_row[0])\n",
    "    \n",
    "    batch.set(apps_ref, app_record)\n",
    "    \n",
    "    for key_benefits_row in key_benefits_rows:\n",
    "        \n",
    "        if key_benefits_row[0] == apps_row[0]:\n",
    "\n",
    "            key_benefits_record = {}\n",
    "            key_benefits_record['title'] = key_benefits_row[1]\n",
    "            key_benefits_record['description'] = key_benefits_row[2]\n",
    "            \n",
    "            key_benefits_ref = apps_ref.collection('key_benefits').document(key_benefits_row[1].replace('/',''))\n",
    "\n",
    "            batch.set(key_benefits_ref, key_benefits_record)\n",
    "            counter += 1\n",
    "            if counter == 350:\n",
    "                batch.commit()\n",
    "                counter = 0\n",
    "                \n",
    "                \n",
    "    for pricing_plans_row in pricing_plans_rows:\n",
    "        \n",
    "        if pricing_plans_row[1] == apps_row[0]:\n",
    "\n",
    "            pricing_plans_record = {}\n",
    "            pricing_plans_record['id'] = pricing_plans_row[0]\n",
    "            pricing_plans_record['title'] = pricing_plans_row[2]\n",
    "            pricing_plans_record['price'] = pricing_plans_row[3]\n",
    "            \n",
    "            lst = []\n",
    "            for pricing_plan_features_row in pricing_plan_features_rows:\n",
    "                if pricing_plan_features_rows[1] == pricing_plans_row[0]:\n",
    "                    lst.append(pricing_plan_features_rows[2])\n",
    "                \n",
    "            pricing_plans_record['features'] = lst\n",
    "            \n",
    "            \n",
    "            pricing_plans_ref = apps_ref.collection('pricing_plans').document(pricing_plans_row[0])\n",
    "\n",
    "            batch.set(pricing_plans_ref, pricing_plans_record)\n",
    "            counter += 1\n",
    "            if counter == 350:\n",
    "                batch.commit()\n",
    "                counter = 0\n",
    "                \n",
    "batch.commit()"
   ]
  },
  {
   "cell_type": "code",
   "execution_count": 42,
   "id": "ce368a7d",
   "metadata": {},
   "outputs": [
    {
     "name": "stdout",
     "output_type": "stream",
     "text": [
      "Categories: 12\n",
      "Apps in category Customer support: 310\n",
      "Apps in category Productivity: 190\n",
      "Apps in category Places to sell: 83\n",
      "Apps in category Orders and shipping: 602\n",
      "Apps in category Marketing: 794\n",
      "Apps in category Finances: 133\n",
      "Apps in category Sales and conversion optimization: 957\n",
      "Apps in category Trust and security: 101\n",
      "Apps in category Reporting: 249\n",
      "Apps in category Finding and adding products: 176\n",
      "Apps in category Inventory management: 251\n",
      "Apps in category Store design: 1537\n"
     ]
    }
   ],
   "source": [
    "lst = list(db.collection(\"category\").get())\n",
    "print(\"Categories:\", len(lst))\n",
    "\n",
    "for category_row in category_rows:\n",
    "    lst = list(db.collection(\"category\").document(category_row[0]).collection(\"apps\").get())\n",
    "    print(\"Apps in category\", category_row[1] + ':', len(lst))"
   ]
  },
  {
   "cell_type": "code",
   "execution_count": null,
   "id": "0dc97e3f",
   "metadata": {},
   "outputs": [],
   "source": [
    "lst = list(db.collection(\"apps\").get())\n",
    "print(\"Apps:\", len(lst))\n",
    "\n",
    "for apps_row in apps_rows:\n",
    "    lst1 = list(db.collection(\"apps\").document(apps_row[0]).collection(\"key_benefits\").get())\n",
    "    lst2 = list(db.collection(\"apps\").document(apps_row[0]).collection(\"pricing_plans\").get())\n",
    "    \n",
    "    print(\"App:\",apps_row[2]+' -',\"Key Benefits:\",len(lst1),\"Pricing Plans:\",len(lst2))"
   ]
  },
  {
   "cell_type": "code",
   "execution_count": 79,
   "id": "24488bbb",
   "metadata": {},
   "outputs": [
    {
     "name": "stdout",
     "output_type": "stream",
     "text": [
      "fe5ae45c-379c-42bf-be7d-b5f6e15fc13c Customer Tags Union Works Apps 5.0 21\n",
      "f99bb1e3-f326-4f10-8901-491652e9809b Order Tagger Union Works Apps 5.0 68\n",
      "f864e3bd-da0e-41dc-be65-984325331475 SilkRoad ‑ Facebook Auto Ads SilkRoad 5.0 2\n",
      "f5344e64-9cda-4d97-b198-2aaeb5170518 Xporter Data Export Tool Modd Apps Inc. 5.0 223\n",
      "ed77a32d-0fa3-458b-b639-e01ea7b78ec0 FraudBlock Fraud Prevention ShopFox 5.0 6\n",
      "e0e231d6-4988-4a8c-ad84-cf18d0f38738 Automation Fox Automation Fox 5.0 1\n",
      "d75fa395-3a4d-41c3-88d1-2f802c1e2411 AirPower BaseGenius 5.0 1\n",
      "d0be03ff-f74d-4fb5-8d2c-79541a1aea1b Excelify Excelify.io 5.0 178\n",
      "c9a86f8c-817e-4bb5-bbdd-e0e669bd7816 UPC Code Manager Ventures & Adventures 5.0 1\n",
      "c7578030-19fd-42e1-a5a5-03c7861220aa EzySlips ‑ Shipping Automation Onjection Labs 5.0 219\n"
     ]
    }
   ],
   "source": [
    "query = db.collection('category').where('title', '==', 'Productivity')\n",
    "results = query.stream()\n",
    "\n",
    "for result in results:\n",
    "    category_id = result.to_dict()[\"category_id\"]\n",
    "\n",
    "query = db.collection('category').document(category_id).collection('apps').order_by(\n",
    "    'rating', direction=firestore.Query.DESCENDING).limit(10)\n",
    "results = query.stream()\n",
    "\n",
    "for result in results:\n",
    "    result = result.to_dict()\n",
    "    print(result[\"app_id\"], result[\"title\"], result[\"developer\"], result[\"rating\"], result[\"reviews_count\"])"
   ]
  },
  {
   "cell_type": "code",
   "execution_count": 80,
   "id": "a961a445",
   "metadata": {},
   "outputs": [
    {
     "name": "stdout",
     "output_type": "stream",
     "text": [
      "d9f142ee-b141-4dc4-9353-173db61d2eb0 Privy ‑ Exit Pop Ups & Email Privy 4.7 23078\n",
      "78ea0810-c008-4a4e-a82f-de0c790e3286 Free Shipping Bar Hextom 4.9 8737\n",
      "b88488b0-9912-44d3-b736-224c36f09d95 Sales Pop ‑ Popup Notification CartKit 4.8 6905\n",
      "e528a60e-94f8-4e92-80e2-5bc6013b8283 BEST Currency Converter Grizzly Apps 4.8 5986\n",
      "be2640c4-01b5-4d52-9f68-cae8c0734d0d Recart FB Messenger Marketing Recart 4.8 5596\n",
      "70bff9e0-4316-4cc6-84ce-92fcd1bc6925 EU Cookie Bar ‑ Cookie GDPR Booster Apps 4.7 5259\n",
      "171816e2-27d4-4552-a65e-ab44a312fe04 Sales Pop Master ‑ Countdown Autoketing 4.8 4931\n",
      "9025eff0-d714-4df1-930f-43f5582979ad Ultimate Sales Boost Hextom 4.8 4847\n",
      "404183ac-6d52-4960-85d2-8350f37c2f0b Ads by Varinode Varinode, Inc. 4.9 4245\n",
      "0380c5ed-7b91-4d4b-9a4e-f6a1c50269dd Quick Announcement Bar Hextom 4.9 4237\n"
     ]
    }
   ],
   "source": [
    "query = db.collection('apps').order_by('reviews_count', direction=firestore.Query.DESCENDING).limit(10)\n",
    "results = query.stream()\n",
    "\n",
    "for result in results:\n",
    "    result = result.to_dict()\n",
    "    print(result[\"app_id\"], result[\"title\"], result[\"developer\"], result[\"rating\"], result[\"reviews_count\"])\n"
   ]
  },
  {
   "cell_type": "code",
   "execution_count": null,
   "id": "0ecc973e",
   "metadata": {},
   "outputs": [],
   "source": []
  }
 ],
 "metadata": {
  "environment": {
   "name": "common-cpu.m79",
   "type": "gcloud",
   "uri": "gcr.io/deeplearning-platform-release/base-cpu:m79"
  },
  "kernelspec": {
   "display_name": "Python 3",
   "language": "python",
   "name": "python3"
  },
  "language_info": {
   "codemirror_mode": {
    "name": "ipython",
    "version": 3
   },
   "file_extension": ".py",
   "mimetype": "text/x-python",
   "name": "python",
   "nbconvert_exporter": "python",
   "pygments_lexer": "ipython3",
   "version": "3.8.8"
  }
 },
 "nbformat": 4,
 "nbformat_minor": 5
}
