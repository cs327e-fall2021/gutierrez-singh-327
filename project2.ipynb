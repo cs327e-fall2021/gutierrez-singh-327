{
 "cells": [
  {
   "cell_type": "code",
   "execution_count": null,
   "id": "f5f35e79",
   "metadata": {},
   "outputs": [],
   "source": [
    "%env PGDATABASE=postgres\n",
    "%env PGHOST=172.24.144.10\n",
    "%env PGPORT=5432\n",
    "%env PGUSER=postgres\n",
    "%env PGPASSWORD=Renzoe22\n",
    "%env PGINSTANCE=pg"
   ]
  },
  {
   "cell_type": "code",
   "execution_count": null,
   "id": "d825fca4",
   "metadata": {},
   "outputs": [],
   "source": [
    "!psql -c \"\\i pagila/pagila-schema.sql\""
   ]
  },
  {
   "cell_type": "code",
   "execution_count": null,
   "id": "ec414b29",
   "metadata": {},
   "outputs": [],
   "source": [
    "!psql -c \"\\i pagila/pagila-insert-data.sql\""
   ]
  },
  {
   "cell_type": "code",
   "execution_count": null,
   "id": "ef4986ae",
   "metadata": {},
   "outputs": [],
   "source": [
    "!psql -c \"\\d pagila.actor\""
   ]
  },
  {
   "cell_type": "code",
   "execution_count": null,
   "id": "3fea6587",
   "metadata": {},
   "outputs": [],
   "source": [
    "!psql -c \"\\d pagila.country\""
   ]
  },
  {
   "cell_type": "code",
   "execution_count": null,
   "id": "a921ad8a",
   "metadata": {},
   "outputs": [],
   "source": [
    "!psql -c \"\\d pagila.city\""
   ]
  },
  {
   "cell_type": "code",
   "execution_count": null,
   "id": "d548c1ff",
   "metadata": {},
   "outputs": [],
   "source": [
    "!psql -c \"\\d pagila.address\""
   ]
  },
  {
   "cell_type": "code",
   "execution_count": null,
   "id": "ecc1ba85",
   "metadata": {},
   "outputs": [],
   "source": [
    "!psql -c \"\\d pagila.category\""
   ]
  },
  {
   "cell_type": "code",
   "execution_count": null,
   "id": "9f9e72a7",
   "metadata": {},
   "outputs": [],
   "source": [
    "!psql -c \"\\d pagila.store\""
   ]
  },
  {
   "cell_type": "code",
   "execution_count": null,
   "id": "c3a695f4",
   "metadata": {},
   "outputs": [],
   "source": [
    "!psql -c \"\\d pagila.customer\""
   ]
  },
  {
   "cell_type": "code",
   "execution_count": null,
   "id": "3515a3f0",
   "metadata": {},
   "outputs": [],
   "source": [
    "!psql -c \"\\d pagila.language\""
   ]
  },
  {
   "cell_type": "code",
   "execution_count": null,
   "id": "521f7d62",
   "metadata": {},
   "outputs": [],
   "source": [
    "!psql -c \"\\d pagila.film\""
   ]
  },
  {
   "cell_type": "code",
   "execution_count": null,
   "id": "ddbc5941",
   "metadata": {},
   "outputs": [],
   "source": [
    "!psql -c \"\\d pagila.film_actor\""
   ]
  },
  {
   "cell_type": "code",
   "execution_count": null,
   "id": "1b0cc449",
   "metadata": {},
   "outputs": [],
   "source": [
    "!psql -c \"\\d pagila.film_category\""
   ]
  },
  {
   "cell_type": "code",
   "execution_count": null,
   "id": "0bb3e43a",
   "metadata": {},
   "outputs": [],
   "source": [
    "!psql -c \"\\d pagila.inventory\""
   ]
  },
  {
   "cell_type": "code",
   "execution_count": null,
   "id": "67f3dc03",
   "metadata": {},
   "outputs": [],
   "source": [
    "!psql -c \"\\d pagila.staff\""
   ]
  },
  {
   "cell_type": "code",
   "execution_count": null,
   "id": "a1da7d2e",
   "metadata": {},
   "outputs": [],
   "source": [
    "!psql -c \"\\d pagila.rental\""
   ]
  },
  {
   "cell_type": "code",
   "execution_count": null,
   "id": "951610bf",
   "metadata": {},
   "outputs": [],
   "source": [
    "!psql -c \"\\d pagila.payment\""
   ]
  },
  {
   "cell_type": "code",
   "execution_count": null,
   "id": "041dee5b",
   "metadata": {},
   "outputs": [],
   "source": [
    "!psql -c \"select * from pagila.actor limit 5\""
   ]
  },
  {
   "cell_type": "code",
   "execution_count": 213,
   "id": "5d2435c7",
   "metadata": {},
   "outputs": [
    {
     "name": "stdout",
     "output_type": "stream",
     "text": [
      " actor_id | first_name | last_name | film_id \n",
      "----------+------------+-----------+---------\n",
      "       37 | VAL        | BOLGER    |      10\n",
      "       35 | JUDY       | DEAN      |      10\n",
      "      188 | ROCK       | DUKAKIS   |      10\n",
      "       64 | RAY        | JOHANSSON |      10\n",
      "      157 | GRETA      | MALDEN    |      10\n",
      "      142 | JADA       | RYDER     |      10\n",
      "      117 | RENEE      | TRACY     |      10\n",
      "       29 | ALEC       | WAYNE     |      10\n",
      "(8 rows)\n",
      "\n"
     ]
    }
   ],
   "source": [
    "#inner join: The first and last name of every actor in the film with film_id = 10, ordered by last name (inner join)\n",
    "!psql -c \"select pagila.actor.actor_id, first_name, last_name, film_id from pagila.actor INNER join pagila.film_actor on pagila.actor.actor_id = pagila.film_actor.actor_id where film_id = 10 order by last_name\""
   ]
  },
  {
   "cell_type": "code",
   "execution_count": 216,
   "id": "18a56491",
   "metadata": {},
   "outputs": [
    {
     "name": "stdout",
     "output_type": "stream",
     "text": [
      "      title       | rental_rate | release_year \n",
      "------------------+-------------+--------------\n",
      " ACE GOLDFINGER   |        4.99 |         2006\n",
      " ADAPTATION HOLES |        2.99 |         2006\n",
      " AFFAIR PREJUDICE |        2.99 |         2006\n",
      " AFRICAN EGG      |        2.99 |         2006\n",
      " AGENT TRUMAN     |        2.99 |         2006\n",
      " AIRPLANE SIERRA  |        4.99 |         2006\n",
      " AIRPORT POLLOCK  |        4.99 |         2006\n",
      " ALABAMA DEVIL    |        2.99 |         2006\n",
      " ALADDIN CALENDAR |        4.99 |         2006\n",
      " ALAMO VIDEOTAPE  |        0.99 |         2006\n",
      " ALASKA PHANTOM   |        0.99 |         2006\n",
      " DATE SPEED       |        0.99 |         2006\n",
      " ALI FOREVER      |        4.99 |         2006\n",
      " ALICE FANTASIA   |        0.99 |         2006\n",
      " ACADEMY DINOSAUR |        0.99 |         2006\n",
      "(15 rows)\n",
      "\n"
     ]
    }
   ],
   "source": [
    "#inner join: The title and rental rate of every film with language English, ordered by release year (limit 15)\n",
    "!psql -c \"select title, rental_rate, release_year from pagila.film inner join pagila.language on pagila.film.language_id = pagila.language.language_id where name = 'English' order by release_year limit 15\""
   ]
  },
  {
   "cell_type": "code",
   "execution_count": 215,
   "id": "5488955f",
   "metadata": {},
   "outputs": [
    {
     "name": "stdout",
     "output_type": "stream",
     "text": [
      "     city     | district  | postal_code \n",
      "--------------+-----------+-------------\n",
      " Akishima     | Tokyo-to  | 33384\n",
      " Fukuyama     | Hiroshima | 93762\n",
      " Higashiosaka | Osaka     | 19428\n",
      " Hino         | Tokyo-to  | 32114\n",
      " Hiroshima    | Hiroshima | 52137\n",
      " Isesaki      | Gumma     | 61244\n",
      " Iwaki        | Fukushima | 1921\n",
      " Iwakuni      | Yamaguchi | 48980\n",
      " Iwatsuki     | Saitama   | 73824\n",
      " Izumisano    | Osaka     | 83536\n",
      " Kakamigahara | Gifu      | 57844\n",
      " Kamakura     | Kanagawa  | 1079\n",
      " Kanazawa     | Ishikawa  | 19151\n",
      " Koriyama     | Fukushima | 13496\n",
      " Kurashiki    | Okayama   | 94065\n",
      " Kuwana       | Mie       | 88408\n",
      " Matsue       | Shimane   | 81508\n",
      " Miyakonojo   | Miyazaki  | 32474\n",
      " Nagareyama   | Chiba     | 38594\n",
      " Okayama      | Okayama   | 46400\n",
      " Okinawa      | Okinawa   | 45750\n",
      " Omiya        | Saitama   | 7664\n",
      " Onomichi     | Hiroshima | 52368\n",
      " Otsu         | Shiga     | 46044\n",
      " Sagamihara   | Kanagawa  | 1027\n",
      " Sasebo       | Nagasaki  | 35200\n",
      " Shimonoseki  | Yamaguchi | 65750\n",
      " Tama         | Ibaragi   | 14073\n",
      " Tsuyama      | Okayama   | 87212\n",
      " Ueda         | Nagano    | 90797\n",
      " Urawa        | Saitama   | 99457\n",
      "(31 rows)\n",
      "\n"
     ]
    }
   ],
   "source": [
    "#inner join:List of cities,districts,postal codes in country with country_id = 50, ordered by city\n",
    "!psql -c \"select city,district,postal_code from pagila.country inner join pagila.city on pagila.country.country_id = pagila.city.country_id inner join pagila.address on pagila.address.city_id = pagila.city.city_id where pagila.city.country_id = 50 order by city\""
   ]
  },
  {
   "cell_type": "code",
   "execution_count": 178,
   "id": "0d80d980",
   "metadata": {},
   "outputs": [
    {
     "name": "stdout",
     "output_type": "stream",
     "text": [
      " rental_id | first_name | last_name |      rental_date       |      return_date       \n",
      "-----------+------------+-----------+------------------------+------------------------\n",
      "      7733 | KATHRYN    | COLEMAN   | 2005-07-28 05:04:47+00 | 2005-08-05 05:12:47+00\n",
      "     15218 | AMBER      | DIXON     | 2005-08-22 16:59:05+00 | 2005-08-30 17:01:05+00\n",
      "      4364 | LUCILLE    | HOLMES    | 2005-07-07 19:46:51+00 | 2005-07-08 21:55:51+00\n",
      "(3 rows)\n",
      "\n"
     ]
    }
   ],
   "source": [
    "#outer join: The rental_id, name, rental date, and return date of customers who rented inventory item with inventory_id = 10, ordered by last name\n",
    "!psql -c \"select rental_id,first_name,last_name,rental_date,return_date from pagila.customer full outer join pagila.rental on pagila.customer.customer_id = pagila.rental.customer_id where pagila.rental.inventory_id=10 order by last_name\"\n"
   ]
  },
  {
   "cell_type": "code",
   "execution_count": 190,
   "id": "fefca09d",
   "metadata": {},
   "outputs": [
    {
     "name": "stdout",
     "output_type": "stream",
     "text": [
      " city_id |      address      | first_name | last_name |            email             \n",
      "---------+-------------------+------------+-----------+------------------------------\n",
      "     300 | 23 Workhaven Lane | Mike       | Hillyer   | Mike.Hillyer@sakilastaff.com\n",
      "(1 row)\n",
      "\n"
     ]
    }
   ],
   "source": [
    "#outer join: selects the address, city_id, name and email of every employee first named Mike, ordered by last name\n",
    "!psql -c \"select city_id, address, first_name, last_name, email from pagila.address right join pagila.staff on pagila.address.address_id = pagila.staff.address_id where first_name= 'Mike' order by last_name\"\n"
   ]
  },
  {
   "cell_type": "code",
   "execution_count": 177,
   "id": "7e2822a1",
   "metadata": {},
   "outputs": [
    {
     "name": "stdout",
     "output_type": "stream",
     "text": [
      "        title         | rating | length \n",
      "----------------------+--------+--------\n",
      " ACE GOLDFINGER       | G      |     48\n",
      " SIMON NORTH          | NC-17  |     51\n",
      " AIRPORT POLLOCK      | R      |     54\n",
      " COMMANDMENTS EXPRESS | R      |     59\n",
      " ARABIA DOGMA         | NC-17  |     62\n",
      " DESERT POSEIDON      | R      |     64\n",
      " FREDDY STORM         | NC-17  |     65\n",
      " LADY STAGE           | PG     |     67\n",
      " TEMPLE ATTRACTION    | PG     |     71\n",
      " TRAIN BUNCH          | R      |     71\n",
      "(10 rows)\n",
      "\n"
     ]
    }
   ],
   "source": [
    "#outer join: The title, rating, and length of every horror film ordered by length, with limit 10.\n",
    "!psql -c \"select title,rating,length from pagila.category full join pagila.film_category on pagila.category.category_id = pagila.film_category.category_id full join pagila.film on pagila.film.film_id = pagila.film_category.film_id where name = 'Horror' order by length limit 10\"  \n"
   ]
  },
  {
   "cell_type": "code",
   "execution_count": 212,
   "id": "0d5182d4",
   "metadata": {},
   "outputs": [
    {
     "name": "stdout",
     "output_type": "stream",
     "text": [
      " c1_customer_id | c1_first_name | c1_last_name | c2_customer_id | c2_first_name | c2_last_name \n",
      "----------------+---------------+--------------+----------------+---------------+--------------\n",
      "            215 | JESSIE        | BANKS        |            533 | JESSIE        | MILAM\n",
      "            253 | TERRY         | CARLSON      |            355 | TERRY         | GRISSOM\n",
      "            108 | TRACY         | COLE         |            589 | TRACY         | HERRMANN\n",
      "            143 | LESLIE        | GORDON       |            506 | LESLIE        | SEWARD\n",
      "            355 | TERRY         | GRISSOM      |            253 | TERRY         | CARLSON\n",
      "            589 | TRACY         | HERRMANN     |            108 | TRACY         | COLE\n",
      "            219 | WILLIE        | HOWELL       |            359 | WILLIE        | MARKHAM\n",
      "            546 | KELLY         | KNOTT        |             67 | KELLY         | TORRES\n",
      "            359 | WILLIE        | MARKHAM      |            219 | WILLIE        | HOWELL\n",
      "            533 | JESSIE        | MILAM        |            215 | JESSIE        | BANKS\n",
      "            588 | MARION        | OCAMPO       |            178 | MARION        | SNYDER\n",
      "            146 | JAMIE         | RICE         |            531 | JAMIE         | WAUGH\n",
      "            506 | LESLIE        | SEWARD       |            143 | LESLIE        | GORDON\n",
      "            178 | MARION        | SNYDER       |            588 | MARION        | OCAMPO\n",
      "             67 | KELLY         | TORRES       |            546 | KELLY         | KNOTT\n",
      "            531 | JAMIE         | WAUGH        |            146 | JAMIE         | RICE\n",
      "(16 rows)\n",
      "\n"
     ]
    }
   ],
   "source": [
    "#self join: customers who have the same first name\n",
    "!psql -c \"select c1.customer_id as c1_customer_id, c1.first_name as c1_first_name,c1.last_name as c1_last_name,c2.customer_id as c2_customer_id,c2.first_name as c2_first_name,c2.last_name as c2_last_name from pagila.customer c1 join pagila.customer c2 on c1.customer_id != c2.customer_id and c1.first_name = c2.first_name order by c1.last_name\"\n"
   ]
  },
  {
   "cell_type": "code",
   "execution_count": null,
   "id": "77284b56",
   "metadata": {},
   "outputs": [],
   "source": []
  }
 ],
 "metadata": {
  "environment": {
   "name": "common-cpu.m79",
   "type": "gcloud",
   "uri": "gcr.io/deeplearning-platform-release/base-cpu:m79"
  },
  "kernelspec": {
   "display_name": "Python 3",
   "language": "python",
   "name": "python3"
  },
  "language_info": {
   "codemirror_mode": {
    "name": "ipython",
    "version": 3
   },
   "file_extension": ".py",
   "mimetype": "text/x-python",
   "name": "python",
   "nbconvert_exporter": "python",
   "pygments_lexer": "ipython3",
   "version": "3.7.10"
  }
 },
 "nbformat": 4,
 "nbformat_minor": 5
}
