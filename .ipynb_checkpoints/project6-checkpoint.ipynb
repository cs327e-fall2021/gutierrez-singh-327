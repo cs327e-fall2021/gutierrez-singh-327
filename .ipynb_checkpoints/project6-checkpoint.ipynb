{
 "cells": [
  {
   "cell_type": "code",
   "execution_count": 1,
   "id": "6a836083",
   "metadata": {},
   "outputs": [
    {
     "name": "stdout",
     "output_type": "stream",
     "text": [
      "309370\n"
     ]
    }
   ],
   "source": [
    "!mongo open_food --quiet --eval 'db.products.count()'"
   ]
  },
  {
   "cell_type": "code",
   "execution_count": 2,
   "id": "5096cc93",
   "metadata": {},
   "outputs": [
    {
     "name": "stdout",
     "output_type": "stream",
     "text": [
      "{\n",
      "\t\"_id\" : \"0000790400028\",\n",
      "\t\"product_name\" : \"Welch's, freeze-dried banana & strawberry slices\"\n",
      "}\n",
      "{\n",
      "\t\"_id\" : \"0000790400349\",\n",
      "\t\"product_name\" : \"Welch's, freeze-dried mango slices\"\n",
      "}\n",
      "{ \"_id\" : \"0009800120321\", \"product_name\" : \"Fine hazelnut chocolates\" }\n",
      "{ \"_id\" : \"0009800140084\", \"product_name\" : \"Coconut almond treat\" }\n",
      "{\n",
      "\t\"_id\" : \"0009800570126\",\n",
      "\t\"product_name\" : \"Sweet cream topped with cocoa wafer bites\"\n",
      "}\n",
      "{\n",
      "\t\"_id\" : \"0000790100027\",\n",
      "\t\"product_name\" : \"Sobe, fruit strip snacks, mango, pineapple\"\n",
      "}\n",
      "{ \"_id\" : \"0000790400066\", \"product_name\" : \"Welch's, freeze-dried grapes\" }\n",
      "{\n",
      "\t\"_id\" : \"0000790410003\",\n",
      "\t\"product_name\" : \"Welch's, dried cranberries, concord grape\"\n",
      "}\n",
      "{\n",
      "\t\"_id\" : \"0000790430018\",\n",
      "\t\"product_name\" : \"Welch's, pb&j trail mix, grape\"\n",
      "}\n",
      "{ \"_id\" : \"0000790440024\", \"product_name\" : \"Welch's, golden apple chips\" }\n",
      "{\n",
      "\t\"_id\" : \"0000790400004\",\n",
      "\t\"product_name\" : \"Welch's, freeze-dried apple slices\"\n",
      "}\n",
      "{\n",
      "\t\"_id\" : \"0000790400301\",\n",
      "\t\"product_name\" : \"Welch's, freeze-dried apple slices\"\n",
      "}\n",
      "{\n",
      "\t\"_id\" : \"0000790410027\",\n",
      "\t\"product_name\" : \"Welch's, dried cranberries, blueberry\"\n",
      "}\n",
      "{\n",
      "\t\"_id\" : \"0000790410065\",\n",
      "\t\"product_name\" : \"Welch's, wholesome & delicious dried mangos\"\n",
      "}\n",
      "{\n",
      "\t\"_id\" : \"0000790430063\",\n",
      "\t\"product_name\" : \"Welch's, pb & j trail mix, strawberry\"\n",
      "}\n",
      "{\n",
      "\t\"_id\" : \"0010082550041\",\n",
      "\t\"product_name\" : \"Korean barbecue recipe fire grilled pork jerky, korean barbecue recipe\"\n",
      "}\n",
      "{ \"_id\" : \"0010300141518\", \"product_name\" : \"Premium Pecan Halves\" }\n",
      "{\n",
      "\t\"_id\" : \"0010300145646\",\n",
      "\t\"product_name\" : \"Diamond of california, pecan halves\"\n",
      "}\n",
      "{ \"_id\" : \"0010300248941\", \"product_name\" : \"Chopped Hazelnuts\" }\n",
      "{\n",
      "\t\"_id\" : \"0010300303954\",\n",
      "\t\"product_name\" : \"Emerald, almonds, cinnamon roast\"\n",
      "}\n",
      "Type \"it\" for more\n"
     ]
    }
   ],
   "source": [
    "!mongo open_food --quiet --eval 'db.products.find({categories: {$in: [\"Snacks\", \"Sweet snacks\", \"Confectioneries\", \"Candies\", \"Chews\"]}},{product_name:1}).pretty()'"
   ]
  },
  {
   "cell_type": "code",
   "execution_count": 3,
   "id": "22bf40b6",
   "metadata": {},
   "outputs": [
    {
     "name": "stdout",
     "output_type": "stream",
     "text": [
      "{\n",
      "\t\"_id\" : \"0852909003299\",\n",
      "\t\"product_name\" : \"Almondmilk\",\n",
      "\t\"code\" : \"0852909003299\"\n",
      "}\n",
      "{\n",
      "\t\"_id\" : \"0840423102055\",\n",
      "\t\"code\" : \"0840423102055\",\n",
      "\t\"product_name\" : \"Garlic wine pasta with chicken meatballs with whole wheat rotini, white beans, and greens, cooked in avocado oil, and topped with parmesan and mozzarella, garlic wine pasta with chicken meatballs\"\n",
      "}\n"
     ]
    }
   ],
   "source": [
    "!mongo open_food --quiet --eval 'db.products.find({last_modified_t: {$gte: 1601856000}},{code:1, product_name:1}).pretty()'"
   ]
  },
  {
   "cell_type": "code",
   "execution_count": 4,
   "id": "5b8b5afa",
   "metadata": {},
   "outputs": [
    {
     "name": "stdout",
     "output_type": "stream",
     "text": [
      "115\n"
     ]
    }
   ],
   "source": [
    "!mongo open_food --quiet --eval 'db.products.count({\"packaging\": \"Plastic\"})'"
   ]
  },
  {
   "cell_type": "code",
   "execution_count": 5,
   "id": "607f1d5c",
   "metadata": {},
   "outputs": [
    {
     "name": "stdout",
     "output_type": "stream",
     "text": [
      "{\n",
      "\t\"_id\" : \"0099482455859\",\n",
      "\t\"creator\" : \"usda-ndb-import\",\n",
      "\t\"brands\" : \"365 Everyday Value,Whole Foods Market  Inc.\",\n",
      "\t\"code\" : \"0099482455859\",\n",
      "\t\"product_name\" : \"Whole Wheat Bread\"\n",
      "}\n"
     ]
    }
   ],
   "source": [
    "!mongo open_food --quiet --eval 'db.products.find({manufacturing_places: \"Austin, TX\", stores: \"Whole Foods\"},{code:1, creator:1, product_name:1, brands:1}).pretty()'\n"
   ]
  },
  {
   "cell_type": "code",
   "execution_count": 6,
   "id": "e7c029f6",
   "metadata": {},
   "outputs": [
    {
     "name": "stdout",
     "output_type": "stream",
     "text": [
      "{\n",
      "\t\"_id\" : \"00547352\",\n",
      "\t\"product_name\" : \"Organic roasted vegetable pizza\",\n",
      "\t\"creator\" : \"djfkzz\",\n",
      "\t\"brands\" : \"Trader Joes\"\n",
      "}\n",
      "{\n",
      "\t\"_id\" : \"00556903\",\n",
      "\t\"brands\" : \"Trader Joes\",\n",
      "\t\"creator\" : \"djfkzz\",\n",
      "\t\"product_name\" : \"Thai Sweet Chili Veggie Burger\"\n",
      "}\n",
      "{\n",
      "\t\"_id\" : \"00508285\",\n",
      "\t\"product_name\" : \"Trader joes, sriracha sauce\",\n",
      "\t\"brands\" : \"Trader Joes\",\n",
      "\t\"creator\" : \"usda-ndb-import\"\n",
      "}\n"
     ]
    }
   ],
   "source": [
    "!mongo open_food --quiet --eval 'db.products.find({brands:\"Trader Joes\", product_name: {$ne:null}},{creator:1, product_name:1, brands:1}).sort({product_name:1}).pretty()'\n"
   ]
  },
  {
   "cell_type": "code",
   "execution_count": 7,
   "id": "7b722e42",
   "metadata": {},
   "outputs": [
    {
     "name": "stdout",
     "output_type": "stream",
     "text": [
      "{\n",
      "\t\"_id\" : \"0040000265252\",\n",
      "\t\"brands\" : \"Mars\",\n",
      "\t\"product_name\" : \"Almond & dark chocolate\"\n",
      "}\n",
      "{ \"_id\" : \"0040000422068\", \"brands\" : \"mars\", \"product_name\" : \"BAR\" }\n",
      "{\n",
      "\t\"_id\" : \"0047677386518\",\n",
      "\t\"brands\" : \"m&m's\",\n",
      "\t\"product_name\" : \"M&m's, light ice cream, chocolate\"\n",
      "}\n",
      "{\n",
      "\t\"_id\" : \"0044000029524\",\n",
      "\t\"product_name\" : \"Nabisco oreo cookies double stuf 1x4.1 oz\",\n",
      "\t\"brands\" : \"oreo\"\n",
      "}\n",
      "{\n",
      "\t\"_id\" : \"04005108\",\n",
      "\t\"product_name\" : \"Real fruit juice!\",\n",
      "\t\"brands\" : \"starburst\"\n",
      "}\n"
     ]
    }
   ],
   "source": [
    "!mongo open_food --quiet --eval 'db.products.find({brands: {$in: [\"m&m\\u0027s\", \"mars\", \"Mars\", \"oreo\", \"starburst\"]}},{product_name:1,brands:1}).sort({product_name:1}).limit(5).pretty()'\n"
   ]
  },
  {
   "cell_type": "code",
   "execution_count": 8,
   "id": "17fd758d",
   "metadata": {},
   "outputs": [
    {
     "name": "stdout",
     "output_type": "stream",
     "text": [
      "WriteResult({ \"nInserted\" : 1 })\n"
     ]
    }
   ],
   "source": [
    "new = '{\"ingredients_text\" : \"This is a made up food.\", \"countries\" : \"Albania\", \"product_name\": \"Magical Beans\", \"creator\" : \"John and Eesha\", \"known_ingredients_n\" : 3}'\n",
    "!mongo open_food --quiet --eval 'db.products.insert({new})'"
   ]
  },
  {
   "cell_type": "code",
   "execution_count": 9,
   "id": "d7f1643a",
   "metadata": {},
   "outputs": [
    {
     "name": "stdout",
     "output_type": "stream",
     "text": [
      "{\n",
      "\t\"_id\" : ObjectId(\"617b0487c3d4e926fbe35640\"),\n",
      "\t\"ingredients_text\" : \"This is a made up food.\",\n",
      "\t\"countries\" : \"Albania\",\n",
      "\t\"product_name\" : \"Magical Beans\",\n",
      "\t\"creator\" : \"John and Eesha\",\n",
      "\t\"known_ingredients_n\" : 3\n",
      "}\n"
     ]
    }
   ],
   "source": [
    "!mongo open_food --quiet --eval 'db.products.find({\"creator\" : \"John and Eesha\"}).pretty()'"
   ]
  },
  {
   "cell_type": "code",
   "execution_count": 10,
   "id": "a8d821f1",
   "metadata": {},
   "outputs": [
    {
     "name": "stdout",
     "output_type": "stream",
     "text": [
      "WriteResult({ \"nMatched\" : 1, \"nUpserted\" : 0, \"nModified\" : 1 })\n"
     ]
    }
   ],
   "source": [
    "!mongo open_food --quiet --eval 'db.products.update({\"creator\" : \"John and Eesha\"},{\"$set\":{product_name_en:\"Beans Magic\"}})'\n"
   ]
  },
  {
   "cell_type": "code",
   "execution_count": 11,
   "id": "9c904398",
   "metadata": {},
   "outputs": [
    {
     "name": "stdout",
     "output_type": "stream",
     "text": [
      "{\n",
      "\t\"_id\" : ObjectId(\"617b0487c3d4e926fbe35640\"),\n",
      "\t\"ingredients_text\" : \"This is a made up food.\",\n",
      "\t\"countries\" : \"Albania\",\n",
      "\t\"product_name\" : \"Magical Beans\",\n",
      "\t\"creator\" : \"John and Eesha\",\n",
      "\t\"known_ingredients_n\" : 3,\n",
      "\t\"product_name_en\" : \"Beans Magic\"\n",
      "}\n"
     ]
    }
   ],
   "source": [
    "!mongo open_food --quiet --eval 'db.products.find({\"creator\" : \"John and Eesha\"}).pretty()'"
   ]
  },
  {
   "cell_type": "code",
   "execution_count": 12,
   "id": "029077c1",
   "metadata": {},
   "outputs": [
    {
     "name": "stdout",
     "output_type": "stream",
     "text": [
      "WriteResult({ \"nRemoved\" : 1 })\n"
     ]
    }
   ],
   "source": [
    "!mongo open_food --quiet --eval 'db.products.remove({\"creator\" : \"John and Eesha\"})'"
   ]
  },
  {
   "cell_type": "code",
   "execution_count": 13,
   "id": "cab017bf",
   "metadata": {},
   "outputs": [],
   "source": [
    "!mongo open_food --quiet --eval 'db.products.find({\"creator\" : \"John and Eesha\"}).pretty()'"
   ]
  },
  {
   "cell_type": "code",
   "execution_count": null,
   "id": "b6872b2c",
   "metadata": {},
   "outputs": [],
   "source": []
  }
 ],
 "metadata": {
  "environment": {
   "name": "common-cpu.m79",
   "type": "gcloud",
   "uri": "gcr.io/deeplearning-platform-release/base-cpu:m79"
  },
  "kernelspec": {
   "display_name": "Python 3",
   "language": "python",
   "name": "python3"
  },
  "language_info": {
   "codemirror_mode": {
    "name": "ipython",
    "version": 3
   },
   "file_extension": ".py",
   "mimetype": "text/x-python",
   "name": "python",
   "nbconvert_exporter": "python",
   "pygments_lexer": "ipython3",
   "version": "3.8.8"
  }
 },
 "nbformat": 4,
 "nbformat_minor": 5
}
