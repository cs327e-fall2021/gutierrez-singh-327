{
 "cells": [
  {
   "cell_type": "code",
   "execution_count": 1,
   "id": "adbc5bcf",
   "metadata": {},
   "outputs": [
    {
     "name": "stdout",
     "output_type": "stream",
     "text": [
      "env: CYPHER=/home/jupyter/neo4j-community-4.3.3/bin/cypher-shell\n",
      "env: USER=neo4j\n",
      "env: PW=Renzoe22\n"
     ]
    }
   ],
   "source": [
    "%env CYPHER=/home/jupyter/neo4j-community-4.3.3/bin/cypher-shell\n",
    "%env USER=neo4j\n",
    "%env PW=Renzoe22"
   ]
  },
  {
   "cell_type": "code",
   "execution_count": 2,
   "id": "bacdc0e4",
   "metadata": {},
   "outputs": [],
   "source": [
    "CONNECT=\"$CYPHER -u $USER -p $PW\""
   ]
  },
  {
   "cell_type": "code",
   "execution_count": 21,
   "id": "48e0912e",
   "metadata": {},
   "outputs": [
    {
     "name": "stdout",
     "output_type": "stream",
     "text": [
      "0 rows\n",
      "ready to start consuming query after 37 ms, results consumed after another 0 ms\n",
      "Deleted 5835 nodes\n",
      "0 rows\n",
      "ready to start consuming query after 10 ms, results consumed after another 0 ms\n",
      "Removed 1 indexes\n",
      "0 rows\n",
      "ready to start consuming query after 11 ms, results consumed after another 0 ms\n",
      "Removed 1 constraints\n",
      "0 rows\n",
      "ready to start consuming query after 7 ms, results consumed after another 0 ms\n",
      "Removed 1 constraints\n",
      "0 rows\n",
      "ready to start consuming query after 8 ms, results consumed after another 0 ms\n",
      "Removed 1 constraints\n",
      "0 rows\n",
      "ready to start consuming query after 7 ms, results consumed after another 0 ms\n",
      "Removed 1 constraints\n"
     ]
    }
   ],
   "source": [
    "!$CONNECT \"MATCH (n) DETACH DELETE n\"\n",
    "!$CONNECT \"DROP INDEX ON :Listing(listing_id);\"\n",
    "!$CONNECT \"DROP CONSTRAINT ON (u:User) ASSERT u.user_id IS UNIQUE;\"\n",
    "!$CONNECT \"DROP CONSTRAINT ON (n:Neighborhood) ASSERT n.neighborhood_id IS UNIQUE;\"\n",
    "!$CONNECT \"DROP CONSTRAINT ON (a:Amenity) ASSERT a.name IS UNIQUE;\"\n",
    "!$CONNECT \"DROP CONSTRAINT ON (h:Host) ASSERT h.host_id IS UNIQUE;\""
   ]
  },
  {
   "cell_type": "code",
   "execution_count": 22,
   "id": "0f890996",
   "metadata": {},
   "outputs": [
    {
     "name": "stdout",
     "output_type": "stream",
     "text": [
      "COUNT(l)\n",
      "5835\n",
      "COUNT(a)\n",
      "42\n",
      "COUNT(n)\n",
      "41\n",
      "COUNT(h)\n",
      "4633\n",
      "COUNT(u)\n",
      "55917\n",
      "COUNT(r)\n",
      "62976\n"
     ]
    }
   ],
   "source": [
    "!cat /home/jupyter/airbnb/load_data.cypher | {CONNECT} --format plain"
   ]
  },
  {
   "cell_type": "code",
   "execution_count": 23,
   "id": "967a7a48",
   "metadata": {},
   "outputs": [
    {
     "name": "stdout",
     "output_type": "stream",
     "text": [
      "+----------+\n",
      "| count(n) |\n",
      "+----------+\n",
      "| 129444   |\n",
      "+----------+\n",
      "\n",
      "1 row\n",
      "ready to start consuming query after 7 ms, results consumed after another 0 ms\n"
     ]
    }
   ],
   "source": [
    "!{CONNECT} \"MATCH (n) RETURN count(n)\""
   ]
  },
  {
   "cell_type": "code",
   "execution_count": 24,
   "id": "68eec56e",
   "metadata": {},
   "outputs": [
    {
     "name": "stdout",
     "output_type": "stream",
     "text": [
      "+-----------------------------+\n",
      "| labels(n)        | count(n) |\n",
      "+-----------------------------+\n",
      "| [\"User\"]         | 55917    |\n",
      "| [\"Review\"]       | 62976    |\n",
      "| [\"Listing\"]      | 5835     |\n",
      "| [\"Amenity\"]      | 42       |\n",
      "| [\"Neighborhood\"] | 41       |\n",
      "| [\"Host\"]         | 4633     |\n",
      "+-----------------------------+\n",
      "\n",
      "6 rows\n",
      "ready to start consuming query after 10 ms, results consumed after another 56 ms\n"
     ]
    }
   ],
   "source": [
    "!{CONNECT} \"MATCH (n) RETURN distinct labels(n), count(n)\""
   ]
  },
  {
   "cell_type": "code",
   "execution_count": 7,
   "id": "6da96356",
   "metadata": {},
   "outputs": [
    {
     "name": "stdout",
     "output_type": "stream",
     "text": [
      "+-----------------------------------------------------------------------------------------------------------------------------------------------------------------------------------------------------------------------+\n",
      "| n                                                                                                                                                                                                                     |\n",
      "+-----------------------------------------------------------------------------------------------------------------------------------------------------------------------------------------------------------------------+\n",
      "| (:Listing {bedrooms: 1, listing_id: \"72635\", availability_365: 240, price: 300.0, accommodates: 6, name: \"3 Private Bedrooms, SW Austin\", property_type: \"House\", bathrooms: 2})                                      |\n",
      "| (:Listing {bedrooms: 1, cleaning_fee: 75.0, weekly_price: 600.0, listing_id: \"5386323\", availability_365: 364, price: 99.0, accommodates: 2, name: \"Cricket Trailer\", property_type: \"Camper/RV\", bathrooms: 0})      |\n",
      "| (:Listing {bedrooms: 1, listing_id: \"8826517\", availability_365: 365, price: 100.0, accommodates: 2, name: \"Private room 1 in South Austin\", property_type: \"House\", bathrooms: 1})                                   |\n",
      "| (:Listing {bedrooms: 1, listing_id: \"8828616\", availability_365: 365, price: 100.0, accommodates: 2, name: \"Private room 2 in South Austin\", property_type: \"House\", bathrooms: 1})                                   |\n",
      "| (:Listing {bedrooms: 3, cleaning_fee: 125.0, listing_id: \"8536913\", availability_365: 358, price: 599.0, accommodates: 6, name: \"Brand-New 3BR Austin Home\", property_type: \"House\", bathrooms: 2})                   |\n",
      "| (:Listing {bedrooms: 1, listing_id: \"8542056\", availability_365: 365, price: 100.0, accommodates: 2, name: \"Private room & Bathroom.\", property_type: \"House\", bathrooms: 1})                                         |\n",
      "| (:Listing {bedrooms: 1, cleaning_fee: 15.0, listing_id: \"6385948\", availability_365: 301, price: 54.0, accommodates: 2, name: \"S. Austin, convenient to MoPac\", property_type: \"Bed & Breakfast\", bathrooms: 1})      |\n",
      "| (:Listing {bedrooms: 1, cleaning_fee: 25.0, listing_id: \"8486890\", availability_365: 312, price: 40.0, accommodates: 2, name: \"Cozy private room 15 mins frm dtwn\", property_type: \"House\", bathrooms: 1})            |\n",
      "| (:Listing {bedrooms: 1, weekly_price: 750.0, listing_id: \"8633580\", availability_365: 355, price: 130.0, accommodates: 6, name: \"Room to rent\", property_type: \"House\", bathrooms: 1})                                |\n",
      "| (:Listing {bedrooms: 1, cleaning_fee: 10.0, weekly_price: 275.0, listing_id: \"5293632\", availability_365: 364, price: 44.0, accommodates: 2, name: \"Southwest Austin Retreat\", property_type: \"House\", bathrooms: 1}) |\n",
      "+-----------------------------------------------------------------------------------------------------------------------------------------------------------------------------------------------------------------------+\n",
      "\n",
      "10 rows\n",
      "ready to start consuming query after 21 ms, results consumed after another 3 ms\n"
     ]
    }
   ],
   "source": [
    "!{CONNECT} \"MATCH (n) RETURN n LIMIT 10\""
   ]
  },
  {
   "cell_type": "code",
   "execution_count": 8,
   "id": "06933b89",
   "metadata": {},
   "outputs": [
    {
     "name": "stdout",
     "output_type": "stream",
     "text": [
      "+-------------------+\n",
      "| type(r)           |\n",
      "+-------------------+\n",
      "| \"IN_NEIGHBORHOOD\" |\n",
      "| \"HAS\"             |\n",
      "| \"HAS\"             |\n",
      "| \"HAS\"             |\n",
      "| \"HAS\"             |\n",
      "| \"HAS\"             |\n",
      "| \"HAS\"             |\n",
      "| \"HAS\"             |\n",
      "| \"HAS\"             |\n",
      "| \"HAS\"             |\n",
      "+-------------------+\n",
      "\n",
      "10 rows\n",
      "ready to start consuming query after 25 ms, results consumed after another 3 ms\n"
     ]
    }
   ],
   "source": [
    "!{CONNECT} \"MATCH ()-[r]->() RETURN type(r) LIMIT 10\""
   ]
  },
  {
   "cell_type": "code",
   "execution_count": 28,
   "id": "ab2cd9dc",
   "metadata": {},
   "outputs": [
    {
     "name": "stdout",
     "output_type": "stream",
     "text": [
      "+----------+\n",
      "| count(h) |\n",
      "+----------+\n",
      "| 3774     |\n",
      "+----------+\n",
      "\n",
      "1 row\n",
      "ready to start consuming query after 26 ms, results consumed after another 34 ms\n"
     ]
    }
   ],
   "source": [
    "!{CONNECT} \"MATCH (h:Host {{location: 'Austin, Texas, United States'}}) RETURN count(h)\""
   ]
  },
  {
   "cell_type": "code",
   "execution_count": 30,
   "id": "c0e16e59",
   "metadata": {},
   "outputs": [
    {
     "name": "stdout",
     "output_type": "stream",
     "text": [
      "+----------------------------------------------------------------------------------------+\n",
      "| l.name                                | l.property_type | l.price | l.availability_365 |\n",
      "+----------------------------------------------------------------------------------------+\n",
      "| \"1BR Convenient Austin Condo \"        | \"Apartment\"     | 93.0    | 354                |\n",
      "| \"1BR Inviting Downtown Condo, Pool\"   | \"Apartment\"     | 99.0    | 335                |\n",
      "| \"2BR/1.5BA Charming House Off SoCo\"   | \"House\"         | 110.0   | 357                |\n",
      "| \"2BR Prime East-Side Downtown\"        | \"House\"         | 121.0   | 341                |\n",
      "| \"1BR SoCo Treehouse Studio\"           | \"House\"         | 129.0   | 327                |\n",
      "| \"1BR/1.5BA East 6th, Colorful 2Story\" | \"Apartment\"     | 134.0   | 344                |\n",
      "| \"3BR Prestigious Home Travis Heights\" | \"House\"         | 138.0   | 0                  |\n",
      "| \"1BR/1.5BA Perfectly Located Casita\"  | \"House\"         | 140.0   | 351                |\n",
      "| \"3BR/2BA Inviting Retreat off SoCo\"   | \"House\"         | 145.0   | 353                |\n",
      "| \"1BR Chic Studio, Hyde Park, Austin\"  | \"Apartment\"     | 149.0   | 354                |\n",
      "+----------------------------------------------------------------------------------------+\n",
      "\n",
      "10 rows\n",
      "ready to start consuming query after 53 ms, results consumed after another 9458 ms\n"
     ]
    }
   ],
   "source": [
    "!{CONNECT} \"MATCH (h:Host {{host_id:'4641823'}}) -[*]-> (l:Listing) RETURN l.name,l.property_type,l.price,l.availability_365 ORDER BY l.price LIMIT 10\""
   ]
  },
  {
   "cell_type": "code",
   "execution_count": 33,
   "id": "4aebb3cb",
   "metadata": {},
   "outputs": [
    {
     "name": "stdout",
     "output_type": "stream",
     "text": [
      "+--------------------------------+\n",
      "| u.user_id  | u.name            |\n",
      "+--------------------------------+\n",
      "| \"18286390\" | \"Annie\"           |\n",
      "| \"30193020\" | \"Carole\"          |\n",
      "| \"16497582\" | \"Cory\"            |\n",
      "| \"35022795\" | \"Craig And Trina\" |\n",
      "| \"13281665\" | \"Dianne\"          |\n",
      "| \"29601600\" | \"Hannah\"          |\n",
      "| \"11940539\" | \"Jacob\"           |\n",
      "| \"3213433\"  | \"Jessie\"          |\n",
      "| \"41722221\" | \"Johannes\"        |\n",
      "| \"28480571\" | \"Ju-Ju\"           |\n",
      "+--------------------------------+\n",
      "\n",
      "10 rows\n",
      "ready to start consuming query after 68 ms, results consumed after another 1022 ms\n"
     ]
    }
   ],
   "source": [
    "!{CONNECT} \"MATCH (u:User) -[*]-> (l:Listing {{listing_id:'5293632'}}) RETURN u.user_id, u.name ORDER BY u.name LIMIT 10\""
   ]
  },
  {
   "cell_type": "code",
   "execution_count": 35,
   "id": "7dec601f",
   "metadata": {},
   "outputs": [
    {
     "name": "stdout",
     "output_type": "stream",
     "text": [
      "+-----------------------+\n",
      "| u.user_id | u.name    |\n",
      "+-----------------------+\n",
      "| \"1627563\" | \"Andrew\"  |\n",
      "| \"1631432\" | \"Bryan\"   |\n",
      "| \"2784203\" | \"Cindy\"   |\n",
      "| \"416470\"  | \"Henrik\"  |\n",
      "| \"386269\"  | \"Scott\"   |\n",
      "| \"430392\"  | \"Thaniya\" |\n",
      "| \"316879\"  | \"Warren\"  |\n",
      "+-----------------------+\n",
      "\n",
      "7 rows\n",
      "ready to start consuming query after 53 ms, results consumed after another 1656 ms\n"
     ]
    }
   ],
   "source": [
    "!{CONNECT} \"MATCH (u:User) -[*]-> (a:Amenity {{name: 'Washer / Dryer'}}) RETURN u.user_id, u.name ORDER BY u.name LIMIT 10\""
   ]
  },
  {
   "cell_type": "code",
   "execution_count": 39,
   "id": "831fb804",
   "metadata": {},
   "outputs": [
    {
     "name": "stdout",
     "output_type": "stream",
     "text": [
      "+----------------------------------------------------------------------------------------+\n",
      "| l.name                                | l.property_type | l.price | l.availability_365 |\n",
      "+----------------------------------------------------------------------------------------+\n",
      "| \"3BR/2.5BA Exquisite Townhouse\"       | \"House\"         | 222.0   | 358                |\n",
      "| \"Austin downtown hideaway\"            | \"House\"         | 249.0   | 364                |\n",
      "| \"3BR/2.5BA Tarrytown Duplex, Austin!\" | \"House\"         | 249.0   | 336                |\n",
      "| \"3BD Luxury Cottage by Lake Austin\"   | \"House\"         | 290.0   | 309                |\n",
      "| \"Entire Adorable Downtown House\"      | \"House\"         | 295.0   | 309                |\n",
      "+----------------------------------------------------------------------------------------+\n",
      "\n",
      "5 rows\n",
      "ready to start consuming query after 52 ms, results consumed after another 26 ms\n"
     ]
    }
   ],
   "source": [
    "!{CONNECT} \"MATCH (l:Listing {{bedrooms:3}}) -[*]-> (n:Neighborhood {{name:'Clarksville'}}) RETURN l.name,l.property_type,l.price,l.availability_365 ORDER BY l.price LIMIT 5\""
   ]
  },
  {
   "cell_type": "code",
   "execution_count": 47,
   "id": "170007a6",
   "metadata": {},
   "outputs": [
    {
     "name": "stdout",
     "output_type": "stream",
     "text": [
      "+-------------------------------------+\n",
      "| (a.name)            | count(a.name) |\n",
      "+-------------------------------------+\n",
      "| \"Internet\"          | 1             |\n",
      "| \"Wireless Internet\" | 1             |\n",
      "| \"Air Conditioning\"  | 1             |\n",
      "| \"Kitchen\"           | 1             |\n",
      "| \"Cable TV\"          | 1             |\n",
      "+-------------------------------------+\n",
      "\n",
      "5 rows\n",
      "ready to start consuming query after 21 ms, results consumed after another 1 ms\n"
     ]
    }
   ],
   "source": [
    "!{CONNECT} \"MATCH (a:Amenity) RETURN distinct(a.name),count(a.name) ORDER BY count(a.name) DESC LIMIT 5\""
   ]
  },
  {
   "cell_type": "code",
   "execution_count": 54,
   "id": "0e88cd99",
   "metadata": {},
   "outputs": [
    {
     "name": "stdout",
     "output_type": "stream",
     "text": [
      "+---------------------------------------+\n",
      "| a.name                     | count(r) |\n",
      "+---------------------------------------+\n",
      "| \"Air Conditioning\"         | 5615     |\n",
      "| \"Wireless Internet\"        | 5479     |\n",
      "| \"Heating\"                  | 5440     |\n",
      "| \"Kitchen\"                  | 5400     |\n",
      "| \"Free Parking on Premises\" | 5123     |\n",
      "+---------------------------------------+\n",
      "\n",
      "5 rows\n",
      "ready to start consuming query after 24 ms, results consumed after another 81 ms\n"
     ]
    }
   ],
   "source": [
    "!{CONNECT} \"MATCH (l:Listing)-[r]->(a:Amenity) RETURN distinct a.name, count(r) ORDER BY count(r) DESC LIMIT 5\""
   ]
  },
  {
   "cell_type": "code",
   "execution_count": 59,
   "id": "3b0c9014",
   "metadata": {},
   "outputs": [
    {
     "name": "stdout",
     "output_type": "stream",
     "text": [
      "+-------------------------------------------------+\n",
      "| n.name           | n.neighborhood_id | count(r) |\n",
      "+-------------------------------------------------+\n",
      "| NULL             | \"78704\"           | 1601     |\n",
      "| NULL             | \"78702\"           | 797      |\n",
      "| \"Clarksville\"    | \"78703\"           | 419      |\n",
      "| \"East Riverside\" | \"78741\"           | 414      |\n",
      "| NULL             | \"78745\"           | 328      |\n",
      "+-------------------------------------------------+\n",
      "\n",
      "5 rows\n",
      "ready to start consuming query after 25 ms, results consumed after another 7 ms\n"
     ]
    }
   ],
   "source": [
    "!{CONNECT} \"MATCH (l:Listing)-[r]->(n:Neighborhood) RETURN distinct n.name, n.neighborhood_id, count(r) ORDER BY count(r) DESC LIMIT 5\""
   ]
  },
  {
   "cell_type": "code",
   "execution_count": null,
   "id": "c2745632",
   "metadata": {},
   "outputs": [],
   "source": []
  }
 ],
 "metadata": {
  "environment": {
   "name": "common-cpu.m79",
   "type": "gcloud",
   "uri": "gcr.io/deeplearning-platform-release/base-cpu:m79"
  },
  "kernelspec": {
   "display_name": "Python 3",
   "language": "python",
   "name": "python3"
  },
  "language_info": {
   "codemirror_mode": {
    "name": "ipython",
    "version": 3
   },
   "file_extension": ".py",
   "mimetype": "text/x-python",
   "name": "python",
   "nbconvert_exporter": "python",
   "pygments_lexer": "ipython3",
   "version": "3.7.10"
  }
 },
 "nbformat": 4,
 "nbformat_minor": 5
}
