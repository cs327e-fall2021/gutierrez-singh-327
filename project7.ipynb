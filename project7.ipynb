{
 "cells": [
  {
   "cell_type": "code",
   "execution_count": 1,
   "id": "7200427f",
   "metadata": {},
   "outputs": [
    {
     "name": "stdout",
     "output_type": "stream",
     "text": [
      "env: CYPHER=/home/jupyter/neo4j-community-4.3.3/bin/cypher-shell\n",
      "env: USER=neo4j\n",
      "env: PW=Renzoe22\n"
     ]
    }
   ],
   "source": [
    "%env CYPHER=/home/jupyter/neo4j-community-4.3.3/bin/cypher-shell\n",
    "%env USER=neo4j\n",
    "%env PW=Renzoe22"
   ]
  },
  {
   "cell_type": "code",
   "execution_count": 2,
   "id": "668d52a4",
   "metadata": {},
   "outputs": [],
   "source": [
    "CONNECT=\"$CYPHER -u $USER -p $PW\""
   ]
  },
  {
   "cell_type": "code",
   "execution_count": 21,
   "id": "2a8a22b3",
   "metadata": {},
   "outputs": [
    {
     "name": "stdout",
     "output_type": "stream",
     "text": [
      "0 rows\n",
      "ready to start consuming query after 37 ms, results consumed after another 0 ms\n",
      "Deleted 5835 nodes\n",
      "0 rows\n",
      "ready to start consuming query after 10 ms, results consumed after another 0 ms\n",
      "Removed 1 indexes\n",
      "0 rows\n",
      "ready to start consuming query after 11 ms, results consumed after another 0 ms\n",
      "Removed 1 constraints\n",
      "0 rows\n",
      "ready to start consuming query after 7 ms, results consumed after another 0 ms\n",
      "Removed 1 constraints\n",
      "0 rows\n",
      "ready to start consuming query after 8 ms, results consumed after another 0 ms\n",
      "Removed 1 constraints\n",
      "0 rows\n",
      "ready to start consuming query after 7 ms, results consumed after another 0 ms\n",
      "Removed 1 constraints\n"
     ]
    }
   ],
   "source": [
    "!$CONNECT \"MATCH (n) DETACH DELETE n\"\n",
    "!$CONNECT \"DROP INDEX ON :Listing(listing_id);\"\n",
    "!$CONNECT \"DROP CONSTRAINT ON (u:User) ASSERT u.user_id IS UNIQUE;\"\n",
    "!$CONNECT \"DROP CONSTRAINT ON (n:Neighborhood) ASSERT n.neighborhood_id IS UNIQUE;\"\n",
    "!$CONNECT \"DROP CONSTRAINT ON (a:Amenity) ASSERT a.name IS UNIQUE;\"\n",
    "!$CONNECT \"DROP CONSTRAINT ON (h:Host) ASSERT h.host_id IS UNIQUE;\""
   ]
  },
  {
   "cell_type": "code",
   "execution_count": 22,
   "id": "7e48cc7e",
   "metadata": {},
   "outputs": [
    {
     "name": "stdout",
     "output_type": "stream",
     "text": [
      "COUNT(l)\n",
      "5835\n",
      "COUNT(a)\n",
      "42\n",
      "COUNT(n)\n",
      "41\n",
      "COUNT(h)\n",
      "4633\n",
      "COUNT(u)\n",
      "55917\n",
      "COUNT(r)\n",
      "62976\n"
     ]
    }
   ],
   "source": [
    "!cat /home/jupyter/airbnb/load_data.cypher | {CONNECT} --format plain"
   ]
  },
  {
   "cell_type": "code",
   "execution_count": 23,
   "id": "3db57da6",
   "metadata": {},
   "outputs": [
    {
     "name": "stdout",
     "output_type": "stream",
     "text": [
      "+----------+\n",
      "| count(n) |\n",
      "+----------+\n",
      "| 129444   |\n",
      "+----------+\n",
      "\n",
      "1 row\n",
      "ready to start consuming query after 7 ms, results consumed after another 0 ms\n"
     ]
    }
   ],
   "source": [
    "!{CONNECT} \"MATCH (n) RETURN count(n)\""
   ]
  },
  {
   "cell_type": "code",
   "execution_count": 24,
   "id": "ae0d8507",
   "metadata": {},
   "outputs": [
    {
     "name": "stdout",
     "output_type": "stream",
     "text": [
      "+-----------------------------+\n",
      "| labels(n)        | count(n) |\n",
      "+-----------------------------+\n",
      "| [\"User\"]         | 55917    |\n",
      "| [\"Review\"]       | 62976    |\n",
      "| [\"Listing\"]      | 5835     |\n",
      "| [\"Amenity\"]      | 42       |\n",
      "| [\"Neighborhood\"] | 41       |\n",
      "| [\"Host\"]         | 4633     |\n",
      "+-----------------------------+\n",
      "\n",
      "6 rows\n",
      "ready to start consuming query after 10 ms, results consumed after another 56 ms\n"
     ]
    }
   ],
   "source": [
    "!{CONNECT} \"MATCH (n) RETURN distinct labels(n), count(n)\""
   ]
  },
  {
   "cell_type": "code",
   "execution_count": 28,
   "id": "66de38e4",
   "metadata": {},
   "outputs": [
    {
     "name": "stdout",
     "output_type": "stream",
     "text": [
      "+----------+\n",
      "| count(h) |\n",
      "+----------+\n",
      "| 3774     |\n",
      "+----------+\n",
      "\n",
      "1 row\n",
      "ready to start consuming query after 26 ms, results consumed after another 34 ms\n"
     ]
    }
   ],
   "source": [
    "!{CONNECT} \"MATCH (h:Host {{location: 'Austin, Texas, United States'}}) RETURN count(h)\""
   ]
  },
  {
   "cell_type": "code",
   "execution_count": 30,
   "id": "568cc03f",
   "metadata": {},
   "outputs": [
    {
     "name": "stdout",
     "output_type": "stream",
     "text": [
      "+----------------------------------------------------------------------------------------+\n",
      "| l.name                                | l.property_type | l.price | l.availability_365 |\n",
      "+----------------------------------------------------------------------------------------+\n",
      "| \"1BR Convenient Austin Condo \"        | \"Apartment\"     | 93.0    | 354                |\n",
      "| \"1BR Inviting Downtown Condo, Pool\"   | \"Apartment\"     | 99.0    | 335                |\n",
      "| \"2BR/1.5BA Charming House Off SoCo\"   | \"House\"         | 110.0   | 357                |\n",
      "| \"2BR Prime East-Side Downtown\"        | \"House\"         | 121.0   | 341                |\n",
      "| \"1BR SoCo Treehouse Studio\"           | \"House\"         | 129.0   | 327                |\n",
      "| \"1BR/1.5BA East 6th, Colorful 2Story\" | \"Apartment\"     | 134.0   | 344                |\n",
      "| \"3BR Prestigious Home Travis Heights\" | \"House\"         | 138.0   | 0                  |\n",
      "| \"1BR/1.5BA Perfectly Located Casita\"  | \"House\"         | 140.0   | 351                |\n",
      "| \"3BR/2BA Inviting Retreat off SoCo\"   | \"House\"         | 145.0   | 353                |\n",
      "| \"1BR Chic Studio, Hyde Park, Austin\"  | \"Apartment\"     | 149.0   | 354                |\n",
      "+----------------------------------------------------------------------------------------+\n",
      "\n",
      "10 rows\n",
      "ready to start consuming query after 53 ms, results consumed after another 9458 ms\n"
     ]
    }
   ],
   "source": [
    "!{CONNECT} \"MATCH (h:Host {{host_id:'4641823'}}) -[*]-> (l:Listing) RETURN l.name,l.property_type,l.price,l.availability_365 ORDER BY l.price LIMIT 10\""
   ]
  },
  {
   "cell_type": "code",
   "execution_count": 33,
   "id": "9794d389",
   "metadata": {},
   "outputs": [
    {
     "name": "stdout",
     "output_type": "stream",
     "text": [
      "+--------------------------------+\n",
      "| u.user_id  | u.name            |\n",
      "+--------------------------------+\n",
      "| \"18286390\" | \"Annie\"           |\n",
      "| \"30193020\" | \"Carole\"          |\n",
      "| \"16497582\" | \"Cory\"            |\n",
      "| \"35022795\" | \"Craig And Trina\" |\n",
      "| \"13281665\" | \"Dianne\"          |\n",
      "| \"29601600\" | \"Hannah\"          |\n",
      "| \"11940539\" | \"Jacob\"           |\n",
      "| \"3213433\"  | \"Jessie\"          |\n",
      "| \"41722221\" | \"Johannes\"        |\n",
      "| \"28480571\" | \"Ju-Ju\"           |\n",
      "+--------------------------------+\n",
      "\n",
      "10 rows\n",
      "ready to start consuming query after 68 ms, results consumed after another 1022 ms\n"
     ]
    }
   ],
   "source": [
    "!{CONNECT} \"MATCH (u:User) -[*]-> (l:Listing {{listing_id:'5293632'}}) RETURN u.user_id, u.name ORDER BY u.name LIMIT 10\""
   ]
  },
  {
   "cell_type": "code",
   "execution_count": 35,
   "id": "469ba0ae",
   "metadata": {},
   "outputs": [
    {
     "name": "stdout",
     "output_type": "stream",
     "text": [
      "+-----------------------+\n",
      "| u.user_id | u.name    |\n",
      "+-----------------------+\n",
      "| \"1627563\" | \"Andrew\"  |\n",
      "| \"1631432\" | \"Bryan\"   |\n",
      "| \"2784203\" | \"Cindy\"   |\n",
      "| \"416470\"  | \"Henrik\"  |\n",
      "| \"386269\"  | \"Scott\"   |\n",
      "| \"430392\"  | \"Thaniya\" |\n",
      "| \"316879\"  | \"Warren\"  |\n",
      "+-----------------------+\n",
      "\n",
      "7 rows\n",
      "ready to start consuming query after 53 ms, results consumed after another 1656 ms\n"
     ]
    }
   ],
   "source": [
    "!{CONNECT} \"MATCH (u:User) -[*]-> (a:Amenity {{name: 'Washer / Dryer'}}) RETURN u.user_id, u.name ORDER BY u.name LIMIT 10\""
   ]
  },
  {
   "cell_type": "code",
   "execution_count": 39,
   "id": "c38d371e",
   "metadata": {},
   "outputs": [
    {
     "name": "stdout",
     "output_type": "stream",
     "text": [
      "+----------------------------------------------------------------------------------------+\n",
      "| l.name                                | l.property_type | l.price | l.availability_365 |\n",
      "+----------------------------------------------------------------------------------------+\n",
      "| \"3BR/2.5BA Exquisite Townhouse\"       | \"House\"         | 222.0   | 358                |\n",
      "| \"Austin downtown hideaway\"            | \"House\"         | 249.0   | 364                |\n",
      "| \"3BR/2.5BA Tarrytown Duplex, Austin!\" | \"House\"         | 249.0   | 336                |\n",
      "| \"3BD Luxury Cottage by Lake Austin\"   | \"House\"         | 290.0   | 309                |\n",
      "| \"Entire Adorable Downtown House\"      | \"House\"         | 295.0   | 309                |\n",
      "+----------------------------------------------------------------------------------------+\n",
      "\n",
      "5 rows\n",
      "ready to start consuming query after 52 ms, results consumed after another 26 ms\n"
     ]
    }
   ],
   "source": [
    "!{CONNECT} \"MATCH (l:Listing {{bedrooms:3}}) -[*]-> (n:Neighborhood {{name:'Clarksville'}}) RETURN l.name,l.property_type,l.price,l.availability_365 ORDER BY l.price LIMIT 5\""
   ]
  },
  {
   "cell_type": "code",
   "execution_count": 54,
   "id": "a9015680",
   "metadata": {},
   "outputs": [
    {
     "name": "stdout",
     "output_type": "stream",
     "text": [
      "+---------------------------------------+\n",
      "| a.name                     | count(r) |\n",
      "+---------------------------------------+\n",
      "| \"Air Conditioning\"         | 5615     |\n",
      "| \"Wireless Internet\"        | 5479     |\n",
      "| \"Heating\"                  | 5440     |\n",
      "| \"Kitchen\"                  | 5400     |\n",
      "| \"Free Parking on Premises\" | 5123     |\n",
      "+---------------------------------------+\n",
      "\n",
      "5 rows\n",
      "ready to start consuming query after 24 ms, results consumed after another 81 ms\n"
     ]
    }
   ],
   "source": [
    "!{CONNECT} \"MATCH (l:Listing)-[r]->(a:Amenity) RETURN distinct a.name, count(r) ORDER BY count(r) DESC LIMIT 5\""
   ]
  },
  {
   "cell_type": "code",
   "execution_count": 59,
   "id": "97fec43d",
   "metadata": {},
   "outputs": [
    {
     "name": "stdout",
     "output_type": "stream",
     "text": [
      "+-------------------------------------------------+\n",
      "| n.name           | n.neighborhood_id | count(r) |\n",
      "+-------------------------------------------------+\n",
      "| NULL             | \"78704\"           | 1601     |\n",
      "| NULL             | \"78702\"           | 797      |\n",
      "| \"Clarksville\"    | \"78703\"           | 419      |\n",
      "| \"East Riverside\" | \"78741\"           | 414      |\n",
      "| NULL             | \"78745\"           | 328      |\n",
      "+-------------------------------------------------+\n",
      "\n",
      "5 rows\n",
      "ready to start consuming query after 25 ms, results consumed after another 7 ms\n"
     ]
    }
   ],
   "source": [
    "!{CONNECT} \"MATCH (l:Listing)-[r]->(n:Neighborhood) RETURN distinct n.name, n.neighborhood_id, count(r) ORDER BY count(r) DESC LIMIT 5\""
   ]
  },
  {
   "cell_type": "code",
   "execution_count": null,
   "id": "3ae17087",
   "metadata": {},
   "outputs": [],
   "source": []
  }
 ],
 "metadata": {
  "environment": {
   "name": "common-cpu.m79",
   "type": "gcloud",
   "uri": "gcr.io/deeplearning-platform-release/base-cpu:m79"
  },
  "kernelspec": {
   "display_name": "Python 3",
   "language": "python",
   "name": "python3"
  },
  "language_info": {
   "codemirror_mode": {
    "name": "ipython",
    "version": 3
   },
   "file_extension": ".py",
   "mimetype": "text/x-python",
   "name": "python",
   "nbconvert_exporter": "python",
   "pygments_lexer": "ipython3",
   "version": "3.7.10"
  }
 },
 "nbformat": 4,
 "nbformat_minor": 5
}
